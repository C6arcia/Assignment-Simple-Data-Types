{
 "cells": [
  {
   "cell_type": "code",
   "execution_count": 82,
   "id": "5d6d10a7-ec31-4fe1-89f2-2ac3d2ee2c91",
   "metadata": {},
   "outputs": [
    {
     "name": "stdout",
     "output_type": "stream",
     "text": [
      "2\n"
     ]
    }
   ],
   "source": [
    "#Question1\n",
    "#Booleans \n",
    "#boolean True + boolean True - boolean False =?\n",
    "\n",
    "print (True + True - False)\n"
   ]
  },
  {
   "cell_type": "code",
   "execution_count": 83,
   "id": "40b93b10-6272-4bf0-ba64-6a22bce8c19a",
   "metadata": {},
   "outputs": [
    {
     "name": "stdout",
     "output_type": "stream",
     "text": [
      "True\n"
     ]
    }
   ],
   "source": [
    "#Question2\n",
    "#Booleans 2\n",
    "#logical tracker = True\n",
    "#logical tracker = logical tracker & logical tracker \n",
    "#logical tracker = logical tracker | (logical tracker - logical tracker)\n",
    "#logical tracker = ?\n",
    "#(note: here the response we are looking for the last assigned value of the logical tracker, denoted here by question mark (?) )\n",
    "\n",
    "logical_tracker = True \n",
    "logical_tracker = logical_tracker and logical_tracker #True and True = True \n",
    "logical_tracker = logical_tracker or (logical_tracker - logical_tracker) #(True or (True and not True = False))=True\n",
    "print(logical_tracker)\n"
   ]
  },
  {
   "cell_type": "code",
   "execution_count": 84,
   "id": "6f56e98b-5ece-4eda-b6e9-686c496393b4",
   "metadata": {},
   "outputs": [
    {
     "data": {
      "text/plain": [
       "' '"
      ]
     },
     "execution_count": 84,
     "metadata": {},
     "output_type": "execute_result"
    }
   ],
   "source": [
    "#Question5\n",
    "#Strings\n",
    "#string = \"E. Coli\" \n",
    "#string[2]= \n",
    "\n",
    "string = \"E. Coli\" \n",
    "string[2]\n"
   ]
  },
  {
   "cell_type": "code",
   "execution_count": 85,
   "id": "bf64fb8b-94b5-4b65-86bb-a57e5f83614a",
   "metadata": {},
   "outputs": [
    {
     "ename": "TypeError",
     "evalue": "'str' object does not support item assignment",
     "output_type": "error",
     "traceback": [
      "\u001b[31m---------------------------------------------------------------------------\u001b[39m",
      "\u001b[31mTypeError\u001b[39m                                 Traceback (most recent call last)",
      "\u001b[36mCell\u001b[39m\u001b[36m \u001b[39m\u001b[32mIn[85]\u001b[39m\u001b[32m, line 9\u001b[39m\n\u001b[32m      1\u001b[39m \u001b[38;5;66;03m#Question6\u001b[39;00m\n\u001b[32m      2\u001b[39m \u001b[38;5;66;03m#Strings 2\u001b[39;00m\n\u001b[32m      3\u001b[39m \u001b[38;5;66;03m#Oh no! My string has a typo!\u001b[39;00m\n\u001b[32m      4\u001b[39m \u001b[38;5;66;03m#string = \"I Bove python\"\u001b[39;00m\n\u001b[32m      5\u001b[39m \u001b[38;5;66;03m#No worries though. I'll just fix that.\u001b[39;00m\n\u001b[32m      6\u001b[39m \u001b[38;5;66;03m#string[2]=\"L\"\u001b[39;00m\n\u001b[32m      8\u001b[39m string = \u001b[33m\"\u001b[39m\u001b[33mI Bove python\u001b[39m\u001b[33m\"\u001b[39m\n\u001b[32m----> \u001b[39m\u001b[32m9\u001b[39m \u001b[43mstring\u001b[49m\u001b[43m[\u001b[49m\u001b[32;43m2\u001b[39;49m\u001b[43m]\u001b[49m = \u001b[33m\"\u001b[39m\u001b[33mL\u001b[39m\u001b[33m\"\u001b[39m\n\u001b[32m     10\u001b[39m \u001b[38;5;66;03m#Error: no it won't work at all \u001b[39;00m\n\u001b[32m     11\u001b[39m \n\u001b[32m     12\u001b[39m \u001b[38;5;66;03m#Corrected code:\u001b[39;00m\n\u001b[32m     13\u001b[39m string = \u001b[33m\"\u001b[39m\u001b[33mI Bove python\u001b[39m\u001b[33m\"\u001b[39m\n",
      "\u001b[31mTypeError\u001b[39m: 'str' object does not support item assignment"
     ]
    }
   ],
   "source": [
    "#Question6\n",
    "#Strings 2\n",
    "#Oh no! My string has a typo!\n",
    "#string = \"I Bove python\"\n",
    "#No worries though. I'll just fix that.\n",
    "#string[2]=\"L\"\n",
    "\n",
    "string = \"I Bove python\"\n",
    "string[2] = \"L\"\n",
    "#Error: no it won't work at all \n",
    "\n",
    "#Corrected code:\n",
    "string = \"I Bove python\"\n",
    "new_string =  string[0:2] + \"L\" + string[3:]\n",
    "print(new_string)\n"
   ]
  },
  {
   "cell_type": "code",
   "execution_count": 89,
   "id": "1aae5ec1-04f0-4bff-9ba2-a1fd5b8b2234",
   "metadata": {},
   "outputs": [
    {
     "name": "stdout",
     "output_type": "stream",
     "text": [
      "<class 'int'>\n"
     ]
    }
   ],
   "source": [
    "#Question7: needs to be in Github\n",
    "\"\"\"Jack has been prescribed 5 medications, write a variable named \"Medication\",\n",
    "and store in it the number of medications he has. Print the type of the variable ''Medication\". \n",
    "Submit your code either here as a text entry, or on your GitHub page in a new repository and past the link here. \n",
    "We encourage you to use GitHub. Don't forget to add comments to your code.\"\"\"\n",
    "\n",
    "Medication = 5\n",
    "print(type(Medication))\n"
   ]
  },
  {
   "cell_type": "code",
   "execution_count": 88,
   "id": "dd166714-997b-46a5-b179-204f6acc669c",
   "metadata": {},
   "outputs": [
    {
     "name": "stdout",
     "output_type": "stream",
     "text": [
      "Susan's Body Mass Index is 24.034609838166958\n"
     ]
    },
    {
     "data": {
      "text/plain": [
       "float"
      ]
     },
     "execution_count": 88,
     "metadata": {},
     "output_type": "execute_result"
    }
   ],
   "source": [
    "#Question8 needs to be in Github\n",
    "\"\"\"Susan has a weight of 60 kilograms and a height of 1.58 meters.\n",
    "Write Code to Calculate and Print Susan’s Body Mass Index as float.\n",
    "Note: Body Mass Index is a person’s weight in kilograms divided by the square of height in meters.\n",
    "Reference: https://www.cdc.gov/healthyweight/assessing/bmi/adult_bmi/index.htmlLinks to an external site.. \n",
    "Submit your code either here as a text entry, or on your GitHub page in a new repository and past the link here.\n",
    "We encourage you to use GitHub. Don't forget to add comments to your code.\"\"\"\n",
    "\n",
    "weight = 60 #kilograms\n",
    "height = 1.58 #meters\n",
    "BMI = weight / (height**2)\n",
    "print(\"Susan's Body Mass Index is\", BMI)\n",
    "\n",
    "type(BMI)\n"
   ]
  },
  {
   "cell_type": "code",
   "execution_count": 44,
   "id": "d0f6bf22-05df-42e9-95e1-d80609379abd",
   "metadata": {},
   "outputs": [
    {
     "name": "stdout",
     "output_type": "stream",
     "text": [
      "Good evening\n",
      "8\n"
     ]
    }
   ],
   "source": [
    "#Question9\n",
    "#Operators 2\n",
    "#Explain how the \"+\", addition operation works differently for integers and strings.\n",
    "\n",
    "#The addition operation combines strings together. \n",
    "#Example\n",
    "#input:\n",
    "string1 = \"Good \"\n",
    "string2 = \"evening\"\n",
    "print(string1 + string2)\n",
    "#output: Good evening \n",
    "\n",
    "#The addition operation mathematically sums the integer values together.\n",
    "#Example:\n",
    "#input: \n",
    "a = 3\n",
    "b = 5\n",
    "print(a + b)\n",
    "#output: 8\n"
   ]
  },
  {
   "cell_type": "code",
   "execution_count": 29,
   "id": "e71cbf85-28cd-4018-bd12-405d31e7af71",
   "metadata": {},
   "outputs": [
    {
     "name": "stdout",
     "output_type": "stream",
     "text": [
      "73\n"
     ]
    }
   ],
   "source": [
    "#Question10\n",
    "#String 3\n",
    "#Type the output if the strings \"7\" and \"3\" are added.\n",
    "\n",
    "string1 = \"7\"\n",
    "string2 = \"3\"\n",
    "print(string1 + string2)\n"
   ]
  }
 ],
 "metadata": {
  "kernelspec": {
   "display_name": "Python 3 (ipykernel)",
   "language": "python",
   "name": "python3"
  },
  "language_info": {
   "codemirror_mode": {
    "name": "ipython",
    "version": 3
   },
   "file_extension": ".py",
   "mimetype": "text/x-python",
   "name": "python",
   "nbconvert_exporter": "python",
   "pygments_lexer": "ipython3",
   "version": "3.13.7"
  }
 },
 "nbformat": 4,
 "nbformat_minor": 5
}
